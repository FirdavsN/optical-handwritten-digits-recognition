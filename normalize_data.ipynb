{
 "cells": [
  {
   "cell_type": "code",
   "execution_count": 1,
   "metadata": {},
   "outputs": [],
   "source": [
    "import numpy as np\n",
    "import os\n",
    "import pickle\n",
    "from PIL import Image"
   ]
  },
  {
   "cell_type": "code",
   "execution_count": 2,
   "metadata": {},
   "outputs": [],
   "source": [
    "data_dir = 'by_class'\n",
    "home_dir = os.getcwd()\n",
    "hex_chars = ['30', '31', '32', '33', '34', '35', '36', '37', '38', '39']\n",
    "\n",
    "def load_pickle_file(filename):\n",
    "    with open(filename, 'rb') as f:\n",
    "        return pickle.load(f)\n",
    "\n",
    "def save_pickle_file(filename, data):\n",
    "    with open(filename, 'wb') as f:\n",
    "        pickle.dump(data, f)\n",
    "\n",
    "def hex_to_decimal(hex_char):\n",
    "    return int(hex_char, 16)"
   ]
  },
  {
   "cell_type": "code",
   "execution_count": 3,
   "metadata": {},
   "outputs": [],
   "source": [
    "def get_images_from_dir(images_dir):\n",
    "    filenames = os.listdir(images_dir)\n",
    "    images = np.empty([len(filenames), 128, 128], dtype=np.uint8)\n",
    "\n",
    "    for i, f in enumerate(filenames):\n",
    "        image_dir = f'{images_dir}/{f}'\n",
    "        image = Image.open(image_dir).convert('L')\n",
    "        image = np.array(image)\n",
    "        \n",
    "        images[i] = image\n",
    "\n",
    "    return images"
   ]
  },
  {
   "cell_type": "code",
   "execution_count": 4,
   "metadata": {},
   "outputs": [],
   "source": [
    "def get_num_images_in_dir(directory):\n",
    "    filenames = os.listdir(directory)\n",
    "    return len(filenames)"
   ]
  },
  {
   "cell_type": "code",
   "execution_count": 5,
   "metadata": {},
   "outputs": [],
   "source": [
    "def get_num_images(typ):\n",
    "    num_train_images = 0\n",
    "    for hex_char in hex_chars:\n",
    "        if typ == 'train':\n",
    "            directory = f'{home_dir}/{data_dir}/{hex_char}/train_{hex_char}'\n",
    "        elif typ == 'test':\n",
    "            directory = f'{home_dir}/{data_dir}/{hex_char}/hsf_4'\n",
    "        else:\n",
    "            return\n",
    "        num_train_images += get_num_images_in_dir(directory)\n",
    "    \n",
    "    return num_train_images\n"
   ]
  },
  {
   "cell_type": "code",
   "execution_count": 11,
   "metadata": {},
   "outputs": [],
   "source": [
    "def save_images(typ):\n",
    "    if typ not in ['train', 'test']: return\n",
    "\n",
    "    num_total_images = get_num_images(typ)\n",
    "\n",
    "    filename = f'{typ}_images_nist.pkl'\n",
    "\n",
    "    all_images = np.empty([num_total_images, 128, 128], dtype=np.uint8)\n",
    "\n",
    "    save_pickle_file(filename, all_images)\n",
    "\n",
    "    total_count = 0\n",
    "    for hex_char in hex_chars:\n",
    "        all_images = load_pickle_file(filename)\n",
    "\n",
    "        if typ == 'train':\n",
    "            directory = f'{home_dir}/{data_dir}/{hex_char}/train_{hex_char}'\n",
    "        elif typ == 'test':\n",
    "            directory = f'{home_dir}/{data_dir}/{hex_char}/hsf_4'\n",
    "\n",
    "        images = get_images_from_dir(directory)\n",
    "        num_images_for_hex = np.shape(images)[0]\n",
    "        print(num_images_for_hex)\n",
    "\n",
    "        all_images[total_count:(total_count+num_images_for_hex)] = images\n",
    "\n",
    "        save_pickle_file(filename, all_images)\n",
    "\n",
    "        total_count += num_images_for_hex\n",
    "\n",
    "        print('finished', hex_char)"
   ]
  },
  {
   "cell_type": "code",
   "execution_count": 12,
   "metadata": {},
   "outputs": [],
   "source": [
    "def save_labels(typ):\n",
    "    if typ not in ['train', 'test']: return\n",
    "\n",
    "    num_total_images = get_num_images(typ)\n",
    "\n",
    "    filename = f'{typ}_labels_nist.pkl'\n",
    "\n",
    "    labels = np.empty([num_total_images], dtype=np.uint8)\n",
    "\n",
    "    total_count = 0\n",
    "    for hex_char in hex_chars:\n",
    "        if typ == 'train':\n",
    "            directory = f'{home_dir}/{data_dir}/{hex_char}/train_{hex_char}'\n",
    "        elif typ == 'test':\n",
    "            directory = f'{home_dir}/{data_dir}/{hex_char}/hsf_4'\n",
    "\n",
    "        num_images_for_hex = get_num_images_in_dir(directory)\n",
    "\n",
    "        labels[total_count:(total_count+num_images_for_hex)] = hex_chars.index(hex_char)\n",
    "        print(labels[total_count:(total_count+num_images_for_hex)])\n",
    "\n",
    "        total_count += num_images_for_hex\n",
    "    \n",
    "    save_pickle_file(filename, labels)"
   ]
  },
  {
   "cell_type": "code",
   "execution_count": 13,
   "metadata": {},
   "outputs": [],
   "source": [
    "def test_labels(typ):\n",
    "    if typ not in ['train', 'test']: return\n",
    "\n",
    "    num_total_images = get_num_images(typ)\n",
    "\n",
    "    filename = f'{typ}_labels_nist.pkl'\n",
    "\n",
    "    labels = load_pickle_file(filename)\n",
    "\n",
    "    total_count = 0\n",
    "    for hex_char in hex_chars:\n",
    "        if typ == 'train':\n",
    "            directory = f'{home_dir}/{data_dir}/{hex_char}/train_{hex_char}'\n",
    "        elif typ == 'test':\n",
    "            directory = f'{home_dir}/{data_dir}/{hex_char}/hsf_4'\n",
    "\n",
    "        num_images_for_hex = get_num_images_in_dir(directory)\n",
    "        print(num_images_for_hex)\n",
    "\n",
    "        i = total_count+num_images_for_hex\n",
    "\n",
    "        print(hex_char)\n",
    "        try:\n",
    "            print(labels[i-1], labels[i], labels[i+1])\n",
    "        except IndexError:\n",
    "            print(labels[i-1])\n",
    "\n",
    "        total_count += num_images_for_hex\n",
    "    "
   ]
  },
  {
   "cell_type": "code",
   "execution_count": 19,
   "metadata": {},
   "outputs": [
    {
     "name": "stdout",
     "output_type": "stream",
     "text": [
      "5560\n",
      "30\n",
      "0 1 1\n",
      "6655\n",
      "31\n",
      "1 2 2\n",
      "5888\n",
      "32\n",
      "2 3 3\n",
      "5819\n",
      "33\n",
      "3 4 4\n",
      "5722\n",
      "34\n",
      "4 5 5\n",
      "5539\n",
      "35\n",
      "5 6 6\n",
      "5858\n",
      "36\n",
      "6 7 7\n",
      "6097\n",
      "37\n",
      "7 8 8\n",
      "5695\n",
      "38\n",
      "8 9 9\n",
      "5813\n",
      "39\n",
      "9\n"
     ]
    }
   ],
   "source": [
    "test_labels('test')"
   ]
  },
  {
   "cell_type": "code",
   "execution_count": 1,
   "metadata": {},
   "outputs": [],
   "source": [
    "def save_images_flattened(typ):\n",
    "    if typ not in ['train', 'test']: return\n",
    "\n",
    "    num_total_images = get_num_images(typ)\n",
    "\n",
    "    filename = f'{typ}_images.pkl'\n",
    "\n",
    "    all_images = load_pickle_file(filename)\n",
    "    new_images = np.empty([num_total_images, 128*128], dtype=bool)\n",
    "\n",
    "    for i, image in enumerate(all_images):\n",
    "        new_image = np.reshape(image, [128*128])\n",
    "        new_images[i] = new_image\n",
    "    \n",
    "    save_pickle_file(f'{typ}_images_flattened.pkl', new_images)"
   ]
  },
  {
   "cell_type": "code",
   "execution_count": 17,
   "metadata": {},
   "outputs": [
    {
     "name": "stdout",
     "output_type": "stream",
     "text": [
      "[[255   0 255]\n",
      " [  0 255 255]\n",
      " [255   0   0]]\n",
      "[255   0 255   0 255 255 255   0   0]\n",
      "[1 0 1 0 1 1 1 0 0]\n",
      "uint8\n",
      "[ True False  True False  True  True  True False False]\n",
      "bool\n"
     ]
    }
   ],
   "source": [
    "arr = np.array([[255, 0, 255],\n",
    "                [0, 255, 255],\n",
    "                [255, 0, 0]], dtype=np.uint8)\n",
    "\n",
    "print(arr)\n",
    "\n",
    "new_arr = np.reshape(arr, 9)\n",
    "print(new_arr)\n",
    "\n",
    "new_arr[new_arr == 255] = 1\n",
    "print(new_arr)\n",
    "\n",
    "print(new_arr.dtype)\n",
    "new_arr = new_arr.astype(np.bool_)\n",
    "print(new_arr)\n",
    "print(new_arr.dtype)"
   ]
  }
 ],
 "metadata": {
  "kernelspec": {
   "display_name": "Python 3.10.5 64-bit",
   "language": "python",
   "name": "python3"
  },
  "language_info": {
   "codemirror_mode": {
    "name": "ipython",
    "version": 3
   },
   "file_extension": ".py",
   "mimetype": "text/x-python",
   "name": "python",
   "nbconvert_exporter": "python",
   "pygments_lexer": "ipython3",
   "version": "3.10.5"
  },
  "orig_nbformat": 4,
  "vscode": {
   "interpreter": {
    "hash": "aee8b7b246df8f9039afb4144a1f6fd8d2ca17a180786b69acc140d282b71a49"
   }
  }
 },
 "nbformat": 4,
 "nbformat_minor": 2
}
